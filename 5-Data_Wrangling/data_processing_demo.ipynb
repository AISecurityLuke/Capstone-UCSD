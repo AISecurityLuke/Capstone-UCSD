{
 "cells": [
  {
   "cell_type": "raw",
   "metadata": {
    "vscode": {
     "languageId": "raw"
    }
   },
   "source": [
    "# Data Processing Pipeline Demo\n",
    "\n",
    "This notebook demonstrates the complete data processing pipeline used to clean and prepare the AI safety dataset. The process involves:\n",
    "\n",
    "1. **Initial Data Cleaning** (using ChatGPT o3-Pro)\n",
    "2. **Text Normalization** (HTML entities, Unicode escapes)\n",
    "3. **Data Deduplication**\n",
    "4. **Balanced Random Sampling**\n",
    "\n",
    "## Overview\n",
    "\n",
    "The dataset contains prompts classified into three categories:\n",
    "- **Class 0 (Green/Safe)**: 4,000 entries\n",
    "- **Class 1 (Yellow/Morally Gray)**: 4,000 entries  \n",
    "- **Class 2 (Red/Harmful)**: 8,000 entries\n",
    "\n",
    "**Total**: 16,000 entries for balanced training\n"
   ]
  },
  {
   "cell_type": "code",
   "execution_count": 3,
   "metadata": {
    "execution": {
     "iopub.execute_input": "2025-06-24T19:26:05.802613Z",
     "iopub.status.busy": "2025-06-24T19:26:05.802301Z",
     "iopub.status.idle": "2025-06-24T19:26:29.974285Z",
     "shell.execute_reply": "2025-06-24T19:26:29.973954Z"
    }
   },
   "outputs": [
    {
     "name": "stdout",
     "output_type": "stream",
     "text": [
      "Libraries imported successfully!\n",
      "Working directory: /Users/lukejohnson/ljStorage/projects/active/Capstone-UCSD/5-Data_Wrangling\n"
     ]
    }
   ],
   "source": [
    "# Import required libraries\n",
    "import os\n",
    "import json\n",
    "import glob\n",
    "import random\n",
    "import pandas as pd\n",
    "import matplotlib.pyplot as plt\n",
    "import seaborn as sns\n",
    "from collections import Counter\n",
    "import numpy as np\n",
    "\n",
    "# Set random seed for reproducibility\n",
    "random.seed(42)\n",
    "np.random.seed(42)\n",
    "\n",
    "# Setup plotting\n",
    "plt.style.use('default')\n",
    "sns.set_palette(\"husl\")\n",
    "plt.rcParams['figure.figsize'] = (12, 8)\n",
    "\n",
    "print(\"Libraries imported successfully!\")\n",
    "print(f\"Working directory: {os.getcwd()}\")\n"
   ]
  },
  {
   "cell_type": "code",
   "execution_count": 7,
   "metadata": {
    "execution": {
     "iopub.execute_input": "2025-06-24T19:26:29.992850Z",
     "iopub.status.busy": "2025-06-24T19:26:29.992546Z",
     "iopub.status.idle": "2025-06-24T19:26:29.996707Z",
     "shell.execute_reply": "2025-06-24T19:26:29.996478Z"
    }
   },
   "outputs": [
    {
     "name": "stdout",
     "output_type": "stream",
     "text": [
      "Normalization functions defined!\n",
      "Replacement map contains 29 entities\n",
      "\n",
      "Sample replacements:\n",
      "  &apos; → '\n",
      "  &#39; → '\n",
      "  &#x27; → '\n",
      "  &quot; → \"\n",
      "  &#34; → \"\n"
     ]
    }
   ],
   "source": [
    "# Define normalization functions (from combine_jsons.py and process_json.py)\n",
    "html_fingerprint_entities = [\n",
    "    {'char': \"'\", 'named': '&apos;', 'decimal': '&#39;', 'hex': '&#x27;'},\n",
    "    {'char': '\"', 'named': '&quot;', 'decimal': '&#34;', 'hex': '&#x22;'},\n",
    "    {'char': '<', 'named': '&lt;', 'decimal': '&#60;', 'hex': '&#x3C;'},\n",
    "    {'char': '>', 'named': '&gt;', 'decimal': '&#62;', 'hex': '&#x3E;'},\n",
    "    {'char': '&', 'named': '&amp;', 'decimal': '&#38;', 'hex': '&#x26;'},\n",
    "    {'char': '/', 'named': None, 'decimal': '&#47;', 'hex': '&#x2F;'},\n",
    "    {'char': '(', 'named': None, 'decimal': '&#40;', 'hex': '&#x28;'},\n",
    "    {'char': ')', 'named': None, 'decimal': '&#41;', 'hex': '&#x29;'},\n",
    "]\n",
    "\n",
    "unicode_escape_entities = [\n",
    "    {'char': \"'\", 'unicode': '\\\\u0027'},\n",
    "    {'char': '\"', 'unicode': '\\\\u0022'},\n",
    "    {'char': '<', 'unicode': '\\\\u003C'},\n",
    "    {'char': '>', 'unicode': '\\\\u003E'},\n",
    "    {'char': '&', 'unicode': '\\\\u0026'},\n",
    "    {'char': '/', 'unicode': '\\\\u002F'},\n",
    "    {'char': '(', 'unicode': '\\\\u0028'},\n",
    "    {'char': ')', 'unicode': '\\\\u0029'},\n",
    "]\n",
    "\n",
    "# Build replacement map\n",
    "replace_map = {}\n",
    "for ent in html_fingerprint_entities:\n",
    "    for key in ['named', 'decimal', 'hex']:\n",
    "        if ent.get(key):\n",
    "            replace_map[ent[key]] = ent['char']\n",
    "for ent in unicode_escape_entities:\n",
    "    replace_map[ent['unicode']] = ent['char']\n",
    "\n",
    "def normalize_message(msg):\n",
    "    \"\"\"Normalize text by replacing HTML entities and Unicode escapes with regular characters.\"\"\"\n",
    "    if not isinstance(msg, str):\n",
    "        return msg\n",
    "    for k, v in replace_map.items():\n",
    "        msg = msg.replace(k, v)\n",
    "    return msg\n",
    "\n",
    "def clean_user_message(user_message):\n",
    "    \"\"\"Extract text from user_message, handling different content types (from process_json.py).\"\"\"\n",
    "    if isinstance(user_message, str):\n",
    "        return user_message\n",
    "    elif isinstance(user_message, dict):\n",
    "        # Handle audio transcription\n",
    "        if user_message.get(\"content_type\") == \"audio_transcription\":\n",
    "            return user_message.get(\"text\", \"\")\n",
    "        # Handle image asset pointer - no text content, skip\n",
    "        elif user_message.get(\"content_type\") == \"image_asset_pointer\":\n",
    "            return \"\"\n",
    "        # Handle real_time_user_audio_video_asset_pointer - no text content, skip\n",
    "        elif user_message.get(\"content_type\") == \"real_time_user_audio_video_asset_pointer\":\n",
    "            return \"\"\n",
    "        # For any other dict structure, try to find text field\n",
    "        else:\n",
    "            return user_message.get(\"text\", \"\")\n",
    "    else:\n",
    "        return str(user_message)\n",
    "\n",
    "print(f\"Normalization functions defined!\")\n",
    "print(f\"Replacement map contains {len(replace_map)} entities\")\n",
    "print(\"\\nSample replacements:\")\n",
    "for i, (k, v) in enumerate(list(replace_map.items())[:5]):\n",
    "    print(f\"  {k} → {v}\")\n"
   ]
  },
  {
   "cell_type": "code",
   "execution_count": 10,
   "metadata": {
    "execution": {
     "iopub.execute_input": "2025-06-24T19:26:29.998223Z",
     "iopub.status.busy": "2025-06-24T19:26:29.998153Z",
     "iopub.status.idle": "2025-06-24T19:26:30.289324Z",
     "shell.execute_reply": "2025-06-24T19:26:30.288659Z"
    }
   },
   "outputs": [
    {
     "name": "stdout",
     "output_type": "stream",
     "text": [
      "🔍 Step 1: Discovering data files...\n",
      "Found 58 JSON files to process\n",
      "\n",
      "File distribution by category:\n",
      "  📁 green: 2 files\n",
      "  📁 red: 3 files\n",
      "  📁 yellow: 53 files\n"
     ]
    },
    {
     "data": {
      "image/png": "[encoded data removed]",
      "text/plain": [
       "<Figure size 1000x600 with 1 Axes>"
      ]
     },
     "metadata": {},
     "output_type": "display_data"
    }
   ],
   "source": [
    "# Step 1: Discover and categorize data files\n",
    "print(\"🔍 Step 1: Discovering data files...\")\n",
    "\n",
    "base_dir = os.getcwd()\n",
    "json_files = [\n",
    "    f for f in glob.glob(os.path.join(base_dir, '**', '*.json'), recursive=True)\n",
    "    if os.path.basename(f) not in {'combined.json', '.DS_Store', 'combined_demo.json', 'combined_demo_notebook.json'}\n",
    "]\n",
    "\n",
    "print(f\"Found {len(json_files)} JSON files to process\")\n",
    "\n",
    "# Categorize files by directory\n",
    "file_categories = {}\n",
    "for file_path in json_files:\n",
    "    parent_dir = os.path.basename(os.path.dirname(file_path)).lower()\n",
    "    if parent_dir not in file_categories:\n",
    "        file_categories[parent_dir] = []\n",
    "    file_categories[parent_dir].append(file_path)\n",
    "\n",
    "print(\"\\nFile distribution by category:\")\n",
    "for category, files in file_categories.items():\n",
    "    print(f\"  📁 {category}: {len(files)} files\")\n",
    "\n",
    "# Create visualization of file distribution\n",
    "plt.figure(figsize=(10, 6))\n",
    "categories = list(file_categories.keys())\n",
    "file_counts = [len(file_categories[cat]) for cat in categories]\n",
    "colors = ['green', 'red', 'yellow']\n",
    "\n",
    "bars = plt.bar(categories, file_counts, color=colors[:len(categories)], alpha=0.7)\n",
    "plt.title('Distribution of JSON Files by Category', fontsize=16, fontweight='bold')\n",
    "plt.ylabel('Number of Files', fontsize=12)\n",
    "plt.xlabel('Category', fontsize=12)\n",
    "\n",
    "# Add value labels on bars\n",
    "for bar, count in zip(bars, file_counts):\n",
    "    plt.text(bar.get_x() + bar.get_width()/2, bar.get_height() + 0.5, \n",
    "             str(count), ha='center', va='bottom', fontweight='bold', fontsize=12)\n",
    "\n",
    "plt.tight_layout()\n",
    "plt.show()\n"
   ]
  }
 ],
 "metadata": {
  "kernelspec": {
   "display_name": "data_science_env",
   "language": "python",
   "name": "python3"
  },
  "language_info": {
   "codemirror_mode": {
    "name": "ipython",
    "version": 3
   },
   "file_extension": ".py",
   "mimetype": "text/x-python",
   "name": "python",
   "nbconvert_exporter": "python",
   "pygments_lexer": "ipython3",
   "version": "3.9.21"
  }
 },
 "nbformat": 4,
 "nbformat_minor": 2
}
