{
  "cells": [
    {
      "cell_type": "markdown",
      "metadata": {},
      "source": [
        "# Experiment Walkthrough\n",
        "\n",
        "This notebook runs the production experiment pipeline and inspects the results.\n",
        "\n",
        "Prerequisites:\n",
        "- Install dependencies: `pip install -r requirements.txt`\n",
        "- Ensure dataset exists at path set in `config/config.json` (typically `../5-Data_Wrangling/combined.json`).\n"
      ]
    },
    {
      "cell_type": "code",
      "execution_count": null,
      "metadata": {},
      "outputs": [],
      "source": [
        "import os, sys\n",
        "from pathlib import Path\n",
        "\n",
        "# Set working directory to the folder containing this notebook (project root of step 7)\n",
        "project_dir = Path(__file__).resolve().parent\n",
        "os.chdir(project_dir)\n",
        "print(f\"Working directory: {Path.cwd()}\")\n",
        "\n",
        "# Optional: disable interactive external services for reproducibility\n",
        "os.environ.setdefault('WANDB_MODE', 'disabled')\n",
        "os.environ.setdefault('WANDB_DISABLED', 'true')\n",
        "os.environ.setdefault('HF_MLFLOW_DISABLE', '1')\n",
        "os.environ.setdefault('TOKENIZERS_PARALLELISM', 'false')\n",
        "\n"
      ]
    },
    {
      "cell_type": "code",
      "execution_count": null,
      "metadata": {},
      "outputs": [],
      "source": [
        "# Run the pipeline via the experiment runner\n",
        "from experiment.experiment_runner import main\n",
        "\n",
        "main()\n",
        "\n"
      ]
    },
    {
      "cell_type": "code",
      "execution_count": null,
      "metadata": {},
      "outputs": [],
      "source": [
        "# Inspect results\n",
        "import pandas as pd\n",
        "from pathlib import Path\n",
        "\n",
        "results_path = Path('results/results.csv')\n",
        "if results_path.exists():\n",
        "    df = pd.read_csv(results_path)\n",
        "    display(df.head(20))\n",
        "else:\n",
        "    print(\"results/results.csv not found. Check logs and configuration.\")\n",
        "\n"
      ]
    }
  ],
  "metadata": {
    "language_info": {
      "name": "python"
    }
  },
  "nbformat": 4,
  "nbformat_minor": 2
}
